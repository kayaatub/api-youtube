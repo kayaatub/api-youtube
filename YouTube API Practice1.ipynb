{
  "nbformat": 4,
  "nbformat_minor": 0,
  "metadata": {
    "colab": {
      "name": "Untitled0.ipynb",
      "provenance": [],
      "collapsed_sections": [],
      "authorship_tag": "ABX9TyNJOFHAOQ7wou8puuo6AAB5",
      "include_colab_link": true
    },
    "kernelspec": {
      "name": "python3",
      "display_name": "Python 3"
    },
    "language_info": {
      "name": "python"
    }
  },
  "cells": [
    {
      "cell_type": "markdown",
      "metadata": {
        "id": "view-in-github",
        "colab_type": "text"
      },
      "source": [
        "<a href=\"https://colab.research.google.com/github/kayaatub/api-youtube/blob/main/YouTube%20API%20Practice1.ipynb\" target=\"_parent\"><img src=\"https://colab.research.google.com/assets/colab-badge.svg\" alt=\"Open In Colab\"/></a>"
      ]
    },
    {
      "cell_type": "code",
      "metadata": {
        "id": "s8o1QK-Mk55A"
      },
      "source": [
        "import requests \n",
        "import pandas as pd\n",
        "import time\n",
        "import plotly"
      ],
      "execution_count": 3,
      "outputs": []
    },
    {
      "cell_type": "code",
      "metadata": {
        "id": "5joEUg5llDw4"
      },
      "source": [
        "api_key1 = \"in the email\"\n",
        "channel_id1 =\"UC46vj6mN-6kZm5RYWWqebsg\"\n",
        "channel_id2 = \"UCwZUYWxwvU8RxcDPAggbhdw\""
      ],
      "execution_count": 21,
      "outputs": []
    },
    {
      "cell_type": "code",
      "metadata": {
        "id": "i1u5jq1p_wjI"
      },
      "source": [
        "#import libraries\n",
        "import requests\n",
        "import pandas as pd\n",
        "import time"
      ],
      "execution_count": 5,
      "outputs": []
    },
    {
      "cell_type": "code",
      "metadata": {
        "id": "H242aVqxABNu"
      },
      "source": [
        "#Keys\n",
        "API_KEY = api_key1\n",
        "CHANNEL_ID = channel_id1"
      ],
      "execution_count": 13,
      "outputs": []
    },
    {
      "cell_type": "code",
      "metadata": {
        "id": "6t366_PSACHB"
      },
      "source": [
        "def get_video_details(video_id):\n",
        "\n",
        "    #collecting view, like, dislike, comment counts\n",
        "    url_video_stats = \"https://www.googleapis.com/youtube/v3/videos?id=\"+video_id+\"&part=statistics&key=\"+API_KEY\n",
        "    response_video_stats = requests.get(url_video_stats).json()\n",
        "\n",
        "    view_count = response_video_stats['items'][0]['statistics']['viewCount']\n",
        "    like_count = response_video_stats['items'][0]['statistics']['likeCount']\n",
        "    dislike_count = response_video_stats['items'][0]['statistics']['dislikeCount']\n",
        "    comment_count = response_video_stats['items'][0]['statistics']['commentCount']\n",
        "\n",
        "    return view_count, like_count, dislike_count, comment_count"
      ],
      "execution_count": 7,
      "outputs": []
    },
    {
      "cell_type": "code",
      "metadata": {
        "id": "vI11X8SpAGQv"
      },
      "source": [
        "def get_videos(df):\n",
        "    pageToken = \"\"\n",
        "    while 1:\n",
        "        url = \"https://www.googleapis.com/youtube/v3/search?key=\"+API_KEY+\"&channelId=\"+CHANNEL_ID+\"&part=snippet,id&order=date&maxResults=10000&\"+pageToken\n",
        "\n",
        "        response = requests.get(url).json()\n",
        "        time.sleep(1) #give it a second before starting the for loop\n",
        "        for video in response['items']:\n",
        "            if video['id']['kind'] == \"youtube#video\":\n",
        "                video_id = video['id']['videoId']\n",
        "                video_title = video['snippet']['title']\n",
        "                video_title = str(video_title).replace(\"&amp;\",\"\")\n",
        "                upload_date = video['snippet']['publishedAt']\n",
        "                upload_date = str(upload_date).split(\"T\")[0]\n",
        "                view_count, like_count, dislike_count, comment_count = get_video_details(video_id)\n",
        "\n",
        "                df = df.append({'video_id':video_id,'video_title':video_title,\n",
        "                                \"upload_date\":upload_date,\"view_count\":view_count,\n",
        "                                \"like_count\":like_count,\"dislike_count\":dislike_count,\n",
        "                                \"comment_count\":comment_count},ignore_index=True)\n",
        "        try:\n",
        "            if response['nextPageToken'] != None: #if none, it means it reached the last page and break out of it\n",
        "                pageToken = \"pageToken=\" + response['nextPageToken']\n",
        "\n",
        "        except:\n",
        "            break\n",
        "\n",
        "\n",
        "    return df"
      ],
      "execution_count": 8,
      "outputs": []
    },
    {
      "cell_type": "code",
      "metadata": {
        "id": "Ewi3VICCANjj"
      },
      "source": [
        "#main\n",
        "\n",
        "#build our dataframe\n",
        "df2 = pd.DataFrame(columns=[\"video_id\",\"video_title\",\"upload_date\",\"view_count\",\"like_count\",\"dislike_count\",\"comment_count\"]) \n",
        "\n",
        "df2 = get_videos(df2)"
      ],
      "execution_count": 16,
      "outputs": []
    },
    {
      "cell_type": "code",
      "metadata": {
        "colab": {
          "base_uri": "https://localhost:8080/",
          "height": 424
        },
        "id": "Q8Zm4HYIARAK",
        "outputId": "079ea139-75a0-47b2-98dc-863dc1f88b30"
      },
      "source": [
        "df2"
      ],
      "execution_count": 17,
      "outputs": [
        {
          "output_type": "execute_result",
          "data": {
            "text/html": [
              "<div>\n",
              "<style scoped>\n",
              "    .dataframe tbody tr th:only-of-type {\n",
              "        vertical-align: middle;\n",
              "    }\n",
              "\n",
              "    .dataframe tbody tr th {\n",
              "        vertical-align: top;\n",
              "    }\n",
              "\n",
              "    .dataframe thead th {\n",
              "        text-align: right;\n",
              "    }\n",
              "</style>\n",
              "<table border=\"1\" class=\"dataframe\">\n",
              "  <thead>\n",
              "    <tr style=\"text-align: right;\">\n",
              "      <th></th>\n",
              "      <th>video_id</th>\n",
              "      <th>video_title</th>\n",
              "      <th>upload_date</th>\n",
              "      <th>view_count</th>\n",
              "      <th>like_count</th>\n",
              "      <th>dislike_count</th>\n",
              "      <th>comment_count</th>\n",
              "    </tr>\n",
              "  </thead>\n",
              "  <tbody>\n",
              "    <tr>\n",
              "      <th>0</th>\n",
              "      <td>OdEZbFxsnks</td>\n",
              "      <td>Tips For How To Get Freelance Projects in Soft...</td>\n",
              "      <td>2021-08-11</td>\n",
              "      <td>30488</td>\n",
              "      <td>845</td>\n",
              "      <td>8</td>\n",
              "      <td>76</td>\n",
              "    </tr>\n",
              "    <tr>\n",
              "      <th>1</th>\n",
              "      <td>rpZcTKJTOi4</td>\n",
              "      <td>Demo Websites for practicing Rest API Testing</td>\n",
              "      <td>2021-08-09</td>\n",
              "      <td>14801</td>\n",
              "      <td>401</td>\n",
              "      <td>2</td>\n",
              "      <td>21</td>\n",
              "    </tr>\n",
              "    <tr>\n",
              "      <th>2</th>\n",
              "      <td>mcQI5x2T1RA</td>\n",
              "      <td>Demo Websites  Projects for practicing Automat...</td>\n",
              "      <td>2021-08-07</td>\n",
              "      <td>21070</td>\n",
              "      <td>732</td>\n",
              "      <td>4</td>\n",
              "      <td>79</td>\n",
              "    </tr>\n",
              "    <tr>\n",
              "      <th>3</th>\n",
              "      <td>KFK9-pK7N2I</td>\n",
              "      <td>How To Improve Coding Skills | Tips And Tricks</td>\n",
              "      <td>2021-08-05</td>\n",
              "      <td>16322</td>\n",
              "      <td>498</td>\n",
              "      <td>5</td>\n",
              "      <td>25</td>\n",
              "    </tr>\n",
              "    <tr>\n",
              "      <th>4</th>\n",
              "      <td>pqq-oUc0Wlw</td>\n",
              "      <td>Tips for getting your CV shortlisted and get m...</td>\n",
              "      <td>2021-08-03</td>\n",
              "      <td>13095</td>\n",
              "      <td>444</td>\n",
              "      <td>2</td>\n",
              "      <td>54</td>\n",
              "    </tr>\n",
              "    <tr>\n",
              "      <th>...</th>\n",
              "      <td>...</td>\n",
              "      <td>...</td>\n",
              "      <td>...</td>\n",
              "      <td>...</td>\n",
              "      <td>...</td>\n",
              "      <td>...</td>\n",
              "      <td>...</td>\n",
              "    </tr>\n",
              "    <tr>\n",
              "      <th>492</th>\n",
              "      <td>04ulACGXGas</td>\n",
              "      <td>Python Tutorial 16 - List Vs Dictionary Vs Tup...</td>\n",
              "      <td>2018-09-16</td>\n",
              "      <td>5021</td>\n",
              "      <td>66</td>\n",
              "      <td>2</td>\n",
              "      <td>5</td>\n",
              "    </tr>\n",
              "    <tr>\n",
              "      <th>493</th>\n",
              "      <td>-WSkxYC3xiA</td>\n",
              "      <td>Python Tutorial 15 - Tuples in Python</td>\n",
              "      <td>2018-09-16</td>\n",
              "      <td>2302</td>\n",
              "      <td>23</td>\n",
              "      <td>0</td>\n",
              "      <td>0</td>\n",
              "    </tr>\n",
              "    <tr>\n",
              "      <th>494</th>\n",
              "      <td>MLt-1KonDR4</td>\n",
              "      <td>Python Tutorial 11 - Numbers in Python</td>\n",
              "      <td>2018-09-12</td>\n",
              "      <td>2928</td>\n",
              "      <td>27</td>\n",
              "      <td>2</td>\n",
              "      <td>0</td>\n",
              "    </tr>\n",
              "    <tr>\n",
              "      <th>495</th>\n",
              "      <td>Kt4DVlR4NKo</td>\n",
              "      <td>Software Testing - Real Time Interview Questio...</td>\n",
              "      <td>2018-09-06</td>\n",
              "      <td>267163</td>\n",
              "      <td>4334</td>\n",
              "      <td>138</td>\n",
              "      <td>153</td>\n",
              "    </tr>\n",
              "    <tr>\n",
              "      <th>496</th>\n",
              "      <td>v9tjYJXcdTs</td>\n",
              "      <td>Agile Software Development Process Model</td>\n",
              "      <td>2018-09-05</td>\n",
              "      <td>137680</td>\n",
              "      <td>1947</td>\n",
              "      <td>41</td>\n",
              "      <td>99</td>\n",
              "    </tr>\n",
              "  </tbody>\n",
              "</table>\n",
              "<p>497 rows × 7 columns</p>\n",
              "</div>"
            ],
            "text/plain": [
              "        video_id  ... comment_count\n",
              "0    OdEZbFxsnks  ...            76\n",
              "1    rpZcTKJTOi4  ...            21\n",
              "2    mcQI5x2T1RA  ...            79\n",
              "3    KFK9-pK7N2I  ...            25\n",
              "4    pqq-oUc0Wlw  ...            54\n",
              "..           ...  ...           ...\n",
              "492  04ulACGXGas  ...             5\n",
              "493  -WSkxYC3xiA  ...             0\n",
              "494  MLt-1KonDR4  ...             0\n",
              "495  Kt4DVlR4NKo  ...           153\n",
              "496  v9tjYJXcdTs  ...            99\n",
              "\n",
              "[497 rows x 7 columns]"
            ]
          },
          "metadata": {},
          "execution_count": 17
        }
      ]
    },
    {
      "cell_type": "code",
      "metadata": {
        "id": "KB33YPPTAUYl"
      },
      "source": [
        "df2.to_csv('youtube_vids_2nd_pull.csv')"
      ],
      "execution_count": 19,
      "outputs": []
    },
    {
      "cell_type": "code",
      "metadata": {
        "id": "6FyhnOkBAXwM"
      },
      "source": [
        ""
      ],
      "execution_count": null,
      "outputs": []
    }
  ]
}
